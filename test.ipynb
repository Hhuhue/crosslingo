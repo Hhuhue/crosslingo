{
 "cells": [
  {
   "cell_type": "code",
   "execution_count": 223,
   "metadata": {},
   "outputs": [],
   "source": [
    "from enum import Enum\n",
    "from itertools import product\n",
    "import logging\n",
    "from logging import Logger\n",
    "import random\n",
    "\n",
    "import pandas as pd\n",
    "import numpy as np\n",
    "from tabulate import tabulate\n",
    "from termcolor import colored\n",
    "from tqdm import tqdm\n",
    "\n",
    "\n",
    "\n",
    "MIN_WORD_LEN = 3"
   ]
  },
  {
   "cell_type": "code",
   "execution_count": 224,
   "metadata": {},
   "outputs": [],
   "source": [
    "\n",
    "def get_logger():\n",
    "    logger = logging.getLogger(__name__)\n",
    "    logger.setLevel(logging.ERROR)\n",
    "    console_handler = logging.StreamHandler()\n",
    "    console_handler.setLevel(logging.ERROR)\n",
    "    formatter = logging.Formatter(\"%(asctime)s - %(levelname)s - %(message)s\")\n",
    "    console_handler.setFormatter(formatter)\n",
    "    logger.addHandler(console_handler)\n",
    "    return logger\n",
    "\n",
    "logger = get_logger()"
   ]
  },
  {
   "cell_type": "code",
   "execution_count": 225,
   "metadata": {},
   "outputs": [],
   "source": [
    "class Direction(Enum):\n",
    "    NONE = 0\n",
    "    ACROSS = 1\n",
    "    DOWN = 2\n",
    "    BLOCKED = 4\n",
    "    \n",
    "    @classmethod\n",
    "    def flip(cls, direction):\n",
    "        if direction == cls.ACROSS:\n",
    "            return cls.DOWN\n",
    "        elif direction == cls.DOWN:\n",
    "            return cls.ACROSS\n",
    "        else:\n",
    "            return direction"
   ]
  },
  {
   "cell_type": "code",
   "execution_count": 226,
   "metadata": {},
   "outputs": [],
   "source": [
    "class WordGrid:\n",
    "    def __init__(self, shape: tuple, logger: Logger = None, verbose=False) -> None:\n",
    "        self.puzzle = np.full(shape, '-', dtype=np.str_)\n",
    "        self.shape = np.array(self.puzzle.shape)\n",
    "        self.state = np.zeros(shape, dtype=np.int8)\n",
    "        self.verbose = verbose\n",
    "        self.logger = logger\n",
    "\n",
    "    def __str__(self) -> str:\n",
    "        return str(tabulate(self.puzzle, tablefmt=\"plain\"))\n",
    "    \n",
    "    def __repr__(self) -> str:\n",
    "        return str(self)\n",
    "    \n",
    "    def flip(self):\n",
    "        self.puzzle = self.puzzle.T\n",
    "        self.shape = self.shape[::-1]\n",
    "        self.state = self.state.T\n",
    "    \n",
    "    def reset(self) -> None:\n",
    "        self.puzzle[:] = '-'\n",
    "        self.state[:] = 0\n",
    "        \n",
    "    def validate_word(self, x: int, y: int, direction: Direction, word: str) -> bool:\n",
    "        if len(word) + x > self.puzzle.shape[0]:\n",
    "            # Word is too long for where it is placed\n",
    "            if self.verbose:\n",
    "                self.logger.warning(f\"Cannot place word of length {len(word)}, '{word}' at {(x, y)}\")\n",
    "            return False\n",
    "        elif (self.state[x:x + len(word), y] & direction.value).any():\n",
    "            # Word is overlapping with an other word in the same direction\n",
    "            if self.verbose:\n",
    "                self.logger.warning(f\"Word overlap detected while trying to place '{word}' at {(x, y)}\")\n",
    "            return False\n",
    "        elif x - 1 > 0 and self.state[x - 1, y] != Direction.NONE.value:\n",
    "            # There is a letter just before the beginning of the word\n",
    "            if self.verbose:\n",
    "                self.logger.warning(f\"Word interference detected while trying to place '{word}' at {(x, y)}\")\n",
    "            return False\n",
    "        elif x + len(word) + 1 < self.shape[0] and self.state[x + len(word) + 1, y] != Direction.NONE.value:\n",
    "            # There is a letter just after the beginning of the word\n",
    "            if self.verbose:\n",
    "                self.logger.warning(f\"Word interference detected while trying to place '{word}' at {(x, y)}\")\n",
    "            return False\n",
    "        \n",
    "        return True\n",
    "\n",
    "\n",
    "    def add_word(self, position: tuple, direction: Direction, word: str) -> bool:\n",
    "        \n",
    "        if direction == Direction.ACROSS:\n",
    "            self.flip()\n",
    "            x, y = position\n",
    "        else:\n",
    "            y, x = position\n",
    "\n",
    "        is_valid = self.validate_word(x, y, direction, word)\n",
    "        \n",
    "        if is_valid:\n",
    "            self.puzzle[x:x + len(word), y] = list(word.lower())\n",
    "            self.state[x:x + len(word), y] |= direction.value\n",
    "        \n",
    "        if direction == Direction.ACROSS:\n",
    "            self.flip()\n",
    "        \n",
    "        return is_valid\n",
    "\n",
    "\n",
    "    def get_letters(self, position: tuple, direction: Direction, length: int):\n",
    "        y, x = position\n",
    "        letters = []\n",
    "        \n",
    "        if direction == Direction.ACROSS:\n",
    "            self.flip()\n",
    "            x, y = position\n",
    "        else:\n",
    "            y, x = position\n",
    "            \n",
    "        for i, letter in enumerate(self.puzzle[x:x + length, y]):\n",
    "            if letter == '-':\n",
    "                continue\n",
    "            letters.append((i, letter))\n",
    "        \n",
    "        if direction == Direction.ACROSS:\n",
    "            self.flip()\n",
    "        \n",
    "        return letters\n",
    "\n",
    "\n",
    "    def get_letter(self, position: tuple):\n",
    "        return self.puzzle[position[1], position[0]].decode()"
   ]
  },
  {
   "cell_type": "code",
   "execution_count": 227,
   "metadata": {},
   "outputs": [
    {
     "data": {
      "text/plain": [
       "-  -  -  -  -  -  -  -  -  -\n",
       "-  -  -  -  -  -  -  -  -  -\n",
       "-  -  -  -  -  -  -  -  -  -\n",
       "-  -  -  -  -  -  -  -  -  -\n",
       "-  -  -  -  -  -  -  -  -  -"
      ]
     },
     "execution_count": 227,
     "metadata": {},
     "output_type": "execute_result"
    }
   ],
   "source": [
    "puzzle = WordGrid((5,10))\n",
    "puzzle"
   ]
  },
  {
   "cell_type": "code",
   "execution_count": 228,
   "metadata": {},
   "outputs": [
    {
     "name": "stderr",
     "output_type": "stream",
     "text": [
      "C:\\Users\\charl\\AppData\\Local\\Temp\\ipykernel_8680\\3200608129.py:3: SettingWithCopyWarning: \n",
      "A value is trying to be set on a copy of a slice from a DataFrame.\n",
      "Try using .loc[row_indexer,col_indexer] = value instead\n",
      "\n",
      "See the caveats in the documentation: https://pandas.pydata.org/pandas-docs/stable/user_guide/indexing.html#returning-a-view-versus-a-copy\n",
      "  dictionary[\"word\"] = dictionary[\"word\"].astype(str)\n"
     ]
    },
    {
     "name": "stdout",
     "output_type": "stream",
     "text": [
      "726021\n"
     ]
    }
   ],
   "source": [
    "word_index = pd.read_csv(\"data/word_index.csv\", encoding='utf-8')\n",
    "dictionary = word_index[word_index[\"lang_code\"] == \"en\"]\n",
    "dictionary[\"word\"] = dictionary[\"word\"].astype(str)\n",
    "dictionary = dictionary[dictionary[\"len\"] >= MIN_WORD_LEN]\n",
    "dictionary = dictionary[dictionary[\"len\"] <= max(puzzle.shape)]\n",
    "dictionary = dictionary[~dictionary[\"word\"].str.contains(r\"[0-9]\")]\n",
    "print(len(dictionary))"
   ]
  },
  {
   "cell_type": "code",
   "execution_count": 240,
   "metadata": {},
   "outputs": [
    {
     "data": {
      "text/plain": [
       "True"
      ]
     },
     "execution_count": 240,
     "metadata": {},
     "output_type": "execute_result"
    }
   ],
   "source": [
    "\"who\" in sorted(dictionary[\"word\"].to_list())"
   ]
  },
  {
   "cell_type": "code",
   "execution_count": 230,
   "metadata": {},
   "outputs": [
    {
     "name": "stdout",
     "output_type": "stream",
     "text": [
      "-  -  -  -  -  -  -  -  -  -\n",
      "-  -  -  -  -  -  -  -  -  -\n",
      "-  l  -  -  -  -  -  -  -  -\n",
      "-  a  -  -  -  -  -  -  -  -\n",
      "-  b  -  -  -  -  -  -  -  -\n"
     ]
    }
   ],
   "source": [
    "while not puzzle.add_word((1,2), Direction.DOWN, dictionary[\"word\"].sample(1).item()):\n",
    "    pass\n",
    "print(puzzle)\n",
    "puzzle.reset()"
   ]
  },
  {
   "cell_type": "code",
   "execution_count": 236,
   "metadata": {},
   "outputs": [],
   "source": [
    "def get_candidates(puzzle: WordGrid, position: tuple, direction: Direction, blacklist: list):\n",
    "    if direction == Direction.ACROSS:\n",
    "        x, y = position\n",
    "        max_len = puzzle.shape[1] - position[0]\n",
    "        puzzle.flip()\n",
    "    else:\n",
    "        max_len = puzzle.shape[0] - position[1]\n",
    "        y, x = position\n",
    "\n",
    "    candidates = dictionary[dictionary[\"word\"].apply(lambda w: puzzle.validate_word(x, y, direction, w))]\n",
    "    \n",
    "    if direction == Direction.ACROSS:\n",
    "        puzzle.flip()\n",
    "    \n",
    "    candidates = candidates[~candidates[\"word\"].isin(blacklist)]\n",
    "        \n",
    "    letters = puzzle.get_letters(position, direction, max_len)\n",
    "    for index, letter in letters:\n",
    "        candidates = candidates[candidates[\"word\"].str[index] == letter]\n",
    "        \n",
    "    return candidates\n",
    "    "
   ]
  },
  {
   "cell_type": "code",
   "execution_count": 246,
   "metadata": {},
   "outputs": [
    {
     "name": "stderr",
     "output_type": "stream",
     "text": [
      "66it [21:56, 19.94s/it]\n",
      "0it [00:00, ?it/s]"
     ]
    },
    {
     "name": "stdout",
     "output_type": "stream",
     "text": [
      "word: new, pos: (7, 1), dir: down, cnd: 48458, slots 20d 35a\n"
     ]
    },
    {
     "name": "stderr",
     "output_type": "stream",
     "text": [
      "1it [00:03,  2.50s/it]"
     ]
    },
    {
     "name": "stdout",
     "output_type": "stream",
     "text": [
      "word: those, pos: (3, 2), dir: across, cnd: 38210, slots 20d 35a\n"
     ]
    },
    {
     "name": "stderr",
     "output_type": "stream",
     "text": [
      "3it [00:03,  1.09it/s]"
     ]
    },
    {
     "name": "stdout",
     "output_type": "stream",
     "text": [
      "word: well, pos: (8, 0), dir: down, cnd: 100054, slots 20d 35a\n"
     ]
    },
    {
     "name": "stderr",
     "output_type": "stream",
     "text": [
      "6it [00:08,  1.26s/it]"
     ]
    },
    {
     "name": "stdout",
     "output_type": "stream",
     "text": [
      "word: more, pos: (1, 4), dir: across, cnd: 579324, slots 20d 34a\n"
     ]
    },
    {
     "name": "stderr",
     "output_type": "stream",
     "text": [
      "10it [00:09,  1.46it/s]"
     ]
    },
    {
     "name": "stdout",
     "output_type": "stream",
     "text": [
      "word: its, pos: (6, 0), dir: down, cnd: 4282, slots 20d 34a\n"
     ]
    },
    {
     "name": "stderr",
     "output_type": "stream",
     "text": [
      "15it [00:13,  1.24it/s]"
     ]
    },
    {
     "name": "stdout",
     "output_type": "stream",
     "text": [
      "word: interview, pos: (0, 0), dir: across, cnd: 46, slots 20d 33a\n"
     ]
    },
    {
     "name": "stderr",
     "output_type": "stream",
     "text": [
      "21it [00:15,  1.80it/s]"
     ]
    },
    {
     "name": "stdout",
     "output_type": "stream",
     "text": [
      "word: thee, pos: (4, 1), dir: down, cnd: 34, slots 17d 33a\n"
     ]
    },
    {
     "name": "stderr",
     "output_type": "stream",
     "text": [
      "28it [00:23,  1.22it/s]"
     ]
    },
    {
     "name": "stdout",
     "output_type": "stream",
     "text": [
      "word: behowls, pos: (3, 3), dir: across, cnd: 2, slots 17d 27a\n"
     ]
    },
    {
     "name": "stderr",
     "output_type": "stream",
     "text": [
      "36it [00:23,  1.98it/s]"
     ]
    },
    {
     "name": "stdout",
     "output_type": "stream",
     "text": [
      "word: that, pos: (0, 1), dir: down, cnd: 48433, slots 17d 27a\n"
     ]
    },
    {
     "name": "stderr",
     "output_type": "stream",
     "text": [
      "45it [00:58,  1.85s/it]"
     ]
    },
    {
     "name": "stdout",
     "output_type": "stream",
     "text": [
      "word: Gestetner, pos: (1, 1), dir: across, cnd: 1, slots 17d 8a\n"
     ]
    },
    {
     "name": "stderr",
     "output_type": "stream",
     "text": [
      "55it [01:00,  1.18s/it]"
     ]
    },
    {
     "name": "stdout",
     "output_type": "stream",
     "text": [
      "word: ngram, pos: (1, 0), dir: down, cnd: 1, slots 15d 8a\n"
     ]
    },
    {
     "name": "stderr",
     "output_type": "stream",
     "text": [
      "66it [01:08,  1.02s/it]"
     ]
    },
    {
     "name": "stdout",
     "output_type": "stream",
     "text": [
      "word: same, pos: (6, 4), dir: across, cnd: 48428, slots 15d 3a\n",
      "['new', 'those', 'well', 'more', 'its', 'interview', 'thee', 'behowls', 'that', 'Gestetner', 'ngram', 'same']\n",
      "i  n  t  e  r  v  i  e  w  -\n",
      "t  g  e  s  t  e  t  n  e  r\n",
      "h  r  -  t  h  o  s  e  l  -\n",
      "a  a  -  b  e  h  o  w  l  s\n",
      "t  m  o  r  e  -  s  a  m  e\n"
     ]
    }
   ],
   "source": [
    "n = 0\n",
    "direction = Direction.DOWN\n",
    "word_list = []\n",
    "puzzle.reset()\n",
    "positions = {\n",
    "    Direction.DOWN: {pos: [] for pos in product(range(puzzle.shape[1]), range(puzzle.shape[0] - MIN_WORD_LEN))},\n",
    "    Direction.ACROSS: {pos: [] for pos in product(range(puzzle.shape[1] - MIN_WORD_LEN), range(puzzle.shape[0]))}\n",
    "}\n",
    "random.seed(12)\n",
    "pbar = tqdm()\n",
    "while n < 12:\n",
    "    if len(positions[direction]) == 0:\n",
    "        if len(positions[Direction.flip(direction)]) == 0:\n",
    "            break\n",
    "        direction = Direction.flip(direction)\n",
    "    \n",
    "    position = random.choice(list(positions[direction]))\n",
    "    \n",
    "    blacklist = positions[direction][position] + word_list\n",
    "    candidates = get_candidates(puzzle, position, direction, blacklist)\n",
    "\n",
    "    if len(candidates) == 0:\n",
    "        positions[direction].pop(position, None)\n",
    "        continue\n",
    "    \n",
    "    try:\n",
    "        word = candidates[\"word\"].sample(1, weights=candidates.freq).item()\n",
    "    except:\n",
    "        word = candidates[\"word\"].sample(1).item()\n",
    "    \n",
    "    pbar.update(n)\n",
    "    #pbar.set_description(f\"word: {word}, pos: {position}, dir: {direction.name.lower()}, cnd: {len(candidates)}, slots {len(positions[Direction.DOWN])}\", refresh=True)\n",
    "    print(f\"word: {word}, pos: {position}, dir: {direction.name.lower()}, cnd: {len(candidates)}, slots {len(positions[Direction.DOWN])}d {len(positions[Direction.ACROSS])}a\")\n",
    "    \n",
    "    if puzzle.add_word(position, direction, word):\n",
    "        if len(positions[Direction.flip(direction)]) > 0:\n",
    "            direction = Direction.flip(direction)\n",
    "\n",
    "        positions[direction].pop(position, None)    \n",
    "        word_list.append(word)\n",
    "        n += 1\n",
    "        #print(puzzle)\n",
    "    else:\n",
    "        positions[direction][position].append(word)\n",
    "        logger.info(f\"Can't place word {word} at {position}\")\n",
    "\n",
    "print(word_list)\n",
    "print(puzzle)"
   ]
  },
  {
   "cell_type": "code",
   "execution_count": 233,
   "metadata": {},
   "outputs": [],
   "source": [
    "def custom_print(puzzle: WordGrid):\n",
    "    to_print = []\n",
    "    for chars, states in zip(puzzle.puzzle, puzzle.state):\n",
    "        data = []\n",
    "        for char, state in zip(chars, states):\n",
    "            if state & Direction.ACROSS.value and state & Direction.DOWN.value:\n",
    "                color = \"magenta\"\n",
    "            elif state & Direction.ACROSS.value:\n",
    "                color = \"blue\"\n",
    "            elif state & Direction.DOWN.value:\n",
    "                color = \"yellow\"\n",
    "            else:\n",
    "                color = \"white\"\n",
    "            data.append(colored(char, color))\n",
    "        to_print.append(data)\n",
    "    print(tabulate(to_print))"
   ]
  },
  {
   "cell_type": "code",
   "execution_count": 247,
   "metadata": {},
   "outputs": [
    {
     "name": "stdout",
     "output_type": "stream",
     "text": [
      "-  -  -  -  -  -  -  -  -  -\n",
      "\u001b[34mi\u001b[0m  \u001b[35mn\u001b[0m  \u001b[34mt\u001b[0m  \u001b[34me\u001b[0m  \u001b[34mr\u001b[0m  \u001b[34mv\u001b[0m  \u001b[35mi\u001b[0m  \u001b[34me\u001b[0m  \u001b[35mw\u001b[0m  \u001b[97m-\u001b[0m\n",
      "\u001b[33mt\u001b[0m  \u001b[35mg\u001b[0m  \u001b[34me\u001b[0m  \u001b[34ms\u001b[0m  \u001b[35mt\u001b[0m  \u001b[34me\u001b[0m  \u001b[35mt\u001b[0m  \u001b[35mn\u001b[0m  \u001b[35me\u001b[0m  \u001b[34mr\u001b[0m\n",
      "\u001b[33mh\u001b[0m  \u001b[33mr\u001b[0m  \u001b[97m-\u001b[0m  \u001b[34mt\u001b[0m  \u001b[35mh\u001b[0m  \u001b[34mo\u001b[0m  \u001b[35ms\u001b[0m  \u001b[35me\u001b[0m  \u001b[33ml\u001b[0m  \u001b[97m-\u001b[0m\n",
      "\u001b[33ma\u001b[0m  \u001b[33ma\u001b[0m  \u001b[97m-\u001b[0m  \u001b[34mb\u001b[0m  \u001b[35me\u001b[0m  \u001b[34mh\u001b[0m  \u001b[34mo\u001b[0m  \u001b[35mw\u001b[0m  \u001b[35ml\u001b[0m  \u001b[34ms\u001b[0m\n",
      "\u001b[33mt\u001b[0m  \u001b[35mm\u001b[0m  \u001b[34mo\u001b[0m  \u001b[34mr\u001b[0m  \u001b[35me\u001b[0m  \u001b[97m-\u001b[0m  \u001b[34ms\u001b[0m  \u001b[34ma\u001b[0m  \u001b[34mm\u001b[0m  \u001b[34me\u001b[0m\n",
      "-  -  -  -  -  -  -  -  -  -\n"
     ]
    }
   ],
   "source": [
    "custom_print(puzzle)"
   ]
  },
  {
   "cell_type": "code",
   "execution_count": null,
   "metadata": {},
   "outputs": [],
   "source": []
  }
 ],
 "metadata": {
  "kernelspec": {
   "display_name": ".venv",
   "language": "python",
   "name": "python3"
  },
  "language_info": {
   "codemirror_mode": {
    "name": "ipython",
    "version": 3
   },
   "file_extension": ".py",
   "mimetype": "text/x-python",
   "name": "python",
   "nbconvert_exporter": "python",
   "pygments_lexer": "ipython3",
   "version": "3.11.9"
  }
 },
 "nbformat": 4,
 "nbformat_minor": 2
}
