{
 "cells": [
  {
   "cell_type": "code",
   "execution_count": 1,
   "metadata": {},
   "outputs": [],
   "source": [
    "from enum import Enum\n",
    "from itertools import product\n",
    "import logging\n",
    "from logging import Logger\n",
    "import random\n",
    "\n",
    "import pandas as pd\n",
    "import numpy as np\n",
    "from tabulate import tabulate\n",
    "from termcolor import colored\n",
    "from tqdm import tqdm\n",
    "\n",
    "\n",
    "from word_grid import WordGrid, Direction\n",
    "\n",
    "\n",
    "\n",
    "MIN_WORD_LEN = 3"
   ]
  },
  {
   "cell_type": "code",
   "execution_count": 3,
   "metadata": {},
   "outputs": [],
   "source": [
    "\n",
    "def get_logger():\n",
    "    logger = logging.getLogger(__name__)\n",
    "    logger.setLevel(logging.ERROR)\n",
    "    console_handler = logging.StreamHandler()\n",
    "    console_handler.setLevel(logging.ERROR)\n",
    "    formatter = logging.Formatter(\"%(asctime)s - %(levelname)s - %(message)s\")\n",
    "    console_handler.setFormatter(formatter)\n",
    "    logger.addHandler(console_handler)\n",
    "    return logger\n",
    "\n",
    "logger = get_logger()"
   ]
  },
  {
   "cell_type": "code",
   "execution_count": 19,
   "metadata": {},
   "outputs": [
    {
     "data": {
      "text/plain": [
       "-  -  -  -  -  -  -  -  -  -\n",
       "-  -  -  -  -  -  -  -  -  -\n",
       "-  -  -  -  -  -  -  -  -  -\n",
       "-  -  -  -  -  -  -  -  -  -\n",
       "-  -  -  -  -  -  -  -  -  -"
      ]
     },
     "execution_count": 19,
     "metadata": {},
     "output_type": "execute_result"
    }
   ],
   "source": [
    "puzzle = WordGrid((5,10))\n",
    "puzzle"
   ]
  },
  {
   "cell_type": "code",
   "execution_count": 26,
   "metadata": {},
   "outputs": [
    {
     "name": "stderr",
     "output_type": "stream",
     "text": [
      "C:\\Users\\charl\\AppData\\Local\\Temp\\ipykernel_2620\\4029767802.py:3: SettingWithCopyWarning: \n",
      "A value is trying to be set on a copy of a slice from a DataFrame.\n",
      "Try using .loc[row_indexer,col_indexer] = value instead\n",
      "\n",
      "See the caveats in the documentation: https://pandas.pydata.org/pandas-docs/stable/user_guide/indexing.html#returning-a-view-versus-a-copy\n",
      "  dictionary[\"word\"] = dictionary[\"word\"].astype(str)\n"
     ]
    },
    {
     "name": "stdout",
     "output_type": "stream",
     "text": [
      "704183\n"
     ]
    }
   ],
   "source": [
    "word_index = pd.read_csv(\"data/word_index.csv\", encoding='utf-8')\n",
    "dictionary = word_index[word_index[\"lang_code\"] == \"en\"]\n",
    "dictionary[\"word\"] = dictionary[\"word\"].astype(str)\n",
    "dictionary = dictionary[dictionary[\"len\"] >= MIN_WORD_LEN]\n",
    "dictionary = dictionary[dictionary[\"len\"] <= max(puzzle.shape)]\n",
    "dictionary = dictionary[~dictionary[\"word\"].str.contains(r\"[0-9-]\")]\n",
    "print(len(dictionary))"
   ]
  },
  {
   "cell_type": "code",
   "execution_count": 20,
   "metadata": {},
   "outputs": [
    {
     "name": "stdout",
     "output_type": "stream",
     "text": [
      "-  -  -  -  -  -  -  -  -  -\n",
      "-  -  -  -  -  -  -  -  -  -\n",
      "-  p  o  l  y  s  p  e  r  m\n",
      "-  -  -  -  -  -  -  -  -  -\n",
      "-  -  -  -  -  -  -  -  -  -\n"
     ]
    }
   ],
   "source": [
    "puzzle.reset()\n",
    "while not puzzle.add_word((1,2), Direction.ACROSS, dictionary[\"word\"].sample(1).item()):\n",
    "    pass\n",
    "print(puzzle)"
   ]
  },
  {
   "cell_type": "code",
   "execution_count": 21,
   "metadata": {},
   "outputs": [],
   "source": [
    "def get_candidates(puzzle: WordGrid, position: tuple, direction: Direction, blacklist: list):\n",
    "\n",
    "    candidates = dictionary[dictionary[\"word\"].apply(lambda w: puzzle.validate_word(position, direction, w))]\n",
    "    candidates = candidates[~candidates[\"word\"].isin(blacklist)]\n",
    "        \n",
    "    return candidates\n",
    "    "
   ]
  },
  {
   "cell_type": "code",
   "execution_count": 22,
   "metadata": {},
   "outputs": [
    {
     "name": "stderr",
     "output_type": "stream",
     "text": [
      "1it [00:37, 37.97s/it]\n"
     ]
    },
    {
     "name": "stdout",
     "output_type": "stream",
     "text": [
      "word: Pope, pos: (7, 1), dir: down, cnd: 47791, slots 20d 35a\n",
      "-  -  -  -  -  -  -  -  -  -\n",
      "-  -  -  -  -  -  -  p  -  -\n",
      "-  -  -  -  -  -  -  o  -  -\n",
      "-  -  -  -  -  -  -  p  -  -\n",
      "-  -  -  -  -  -  -  e  -  -\n"
     ]
    },
    {
     "name": "stderr",
     "output_type": "stream",
     "text": []
    },
    {
     "name": "stdout",
     "output_type": "stream",
     "text": [
      "word: try out, pos: (3, 2), dir: across, cnd: 32425, slots 20d 35a\n",
      "-  -  -  -  -  -  -  -  -  -\n",
      "-  -  -  -  -  -  -  p  -  -\n",
      "-  -  -  t  r  y     o  u  t\n",
      "-  -  -  -  -  -  -  p  -  -\n",
      "-  -  -  -  -  -  -  e  -  -\n"
     ]
    },
    {
     "name": "stderr",
     "output_type": "stream",
     "text": []
    },
    {
     "name": "stdout",
     "output_type": "stream",
     "text": [
      "word: haul, pos: (8, 0), dir: down, cnd: 3260, slots 20d 35a\n",
      "-  -  -  -  -  -  -  -  h  -\n",
      "-  -  -  -  -  -  -  p  a  -\n",
      "-  -  -  t  r  y     o  u  t\n",
      "-  -  -  -  -  -  -  p  l  -\n",
      "-  -  -  -  -  -  -  e  -  -\n"
     ]
    },
    {
     "name": "stderr",
     "output_type": "stream",
     "text": []
    },
    {
     "name": "stdout",
     "output_type": "stream",
     "text": [
      "word: narrate, pos: (1, 4), dir: across, cnd: 149666, slots 20d 34a\n",
      "-  -  -  -  -  -  -  -  h  -\n",
      "-  -  -  -  -  -  -  p  a  -\n",
      "-  -  -  t  r  y     o  u  t\n",
      "-  -  -  -  -  -  -  p  l  -\n",
      "-  n  a  r  r  a  t  e  -  -\n"
     ]
    },
    {
     "name": "stderr",
     "output_type": "stream",
     "text": []
    },
    {
     "name": "stdout",
     "output_type": "stream",
     "text": [
      "word: do it, pos: (6, 0), dir: down, cnd: 12, slots 20d 34a\n",
      "-  -  -  -  -  -  d  -  h  -\n",
      "-  -  -  -  -  -  o  p  a  -\n",
      "-  -  -  t  r  y     o  u  t\n",
      "-  -  -  -  -  -  i  p  l  -\n",
      "-  n  a  r  r  a  t  e  -  -\n"
     ]
    },
    {
     "name": "stderr",
     "output_type": "stream",
     "text": []
    },
    {
     "name": "stdout",
     "output_type": "stream",
     "text": [
      "word: Goma, pos: (0, 0), dir: across, cnd: 106758, slots 20d 33a\n",
      "g  o  m  a  -  -  d  -  h  -\n",
      "-  -  -  -  -  -  o  p  a  -\n",
      "-  -  -  t  r  y     o  u  t\n",
      "-  -  -  -  -  -  i  p  l  -\n",
      "-  n  a  r  r  a  t  e  -  -\n"
     ]
    },
    {
     "name": "stderr",
     "output_type": "stream",
     "text": []
    },
    {
     "name": "stdout",
     "output_type": "stream",
     "text": [
      "word: brrr, pos: (4, 1), dir: down, cnd: 13, slots 17d 33a\n",
      "g  o  m  a  -  -  d  -  h  -\n",
      "-  -  -  -  b  -  o  p  a  -\n",
      "-  -  -  t  r  y     o  u  t\n",
      "-  -  -  -  r  -  i  p  l  -\n",
      "-  n  a  r  r  a  t  e  -  -\n"
     ]
    },
    {
     "name": "stderr",
     "output_type": "stream",
     "text": []
    },
    {
     "name": "stdout",
     "output_type": "stream",
     "text": [
      "word: opal, pos: (6, 1), dir: across, cnd: 2, slots 17d 30a\n",
      "g  o  m  a  -  -  d  -  h  -\n",
      "-  -  -  -  b  -  o  p  a  l\n",
      "-  -  -  t  r  y     o  u  t\n",
      "-  -  -  -  r  -  i  p  l  -\n",
      "-  n  a  r  r  a  t  e  -  -\n"
     ]
    },
    {
     "name": "stderr",
     "output_type": "stream",
     "text": []
    },
    {
     "name": "stdout",
     "output_type": "stream",
     "text": [
      "word: say, pos: (5, 0), dir: down, cnd: 399, slots 15d 30a\n",
      "g  o  m  a  -  s  d  -  h  -\n",
      "-  -  -  -  b  a  o  p  a  l\n",
      "-  -  -  t  r  y     o  u  t\n",
      "-  -  -  -  r  -  i  p  l  -\n",
      "-  n  a  r  r  a  t  e  -  -\n"
     ]
    },
    {
     "name": "stderr",
     "output_type": "stream",
     "text": []
    },
    {
     "name": "stdout",
     "output_type": "stream",
     "text": [
      "word: her, pos: (2, 3), dir: across, cnd: 297, slots 15d 24a\n",
      "g  o  m  a  -  s  d  -  h  -\n",
      "-  -  -  -  b  a  o  p  a  l\n",
      "-  -  -  t  r  y     o  u  t\n",
      "-  -  h  e  r  -  i  p  l  -\n",
      "-  n  a  r  r  a  t  e  -  -\n"
     ]
    },
    {
     "name": "stderr",
     "output_type": "stream",
     "text": []
    },
    {
     "name": "stdout",
     "output_type": "stream",
     "text": [
      "word: Isan, pos: (1, 1), dir: down, cnd: 1261, slots 15d 24a\n",
      "g  o  m  a  -  s  d  -  h  -\n",
      "-  i  -  -  b  a  o  p  a  l\n",
      "-  s  -  t  r  y     o  u  t\n",
      "-  a  h  e  r  -  i  p  l  -\n",
      "-  n  a  r  r  a  t  e  -  -\n"
     ]
    },
    {
     "name": "stderr",
     "output_type": "stream",
     "text": []
    },
    {
     "name": "stdout",
     "output_type": "stream",
     "text": [
      "word: fit, pos: (0, 1), dir: across, cnd: 816, slots 15d 11a\n",
      "g  o  m  a  -  s  d  -  h  -\n",
      "f  i  t  -  b  a  o  p  a  l\n",
      "-  s  -  t  r  y     o  u  t\n",
      "-  a  h  e  r  -  i  p  l  -\n",
      "-  n  a  r  r  a  t  e  -  -\n",
      "['Pope', 'try out', 'haul', 'narrate', 'do it', 'Goma', 'brrr', 'opal', 'say', 'her', 'Isan', 'fit']\n",
      "g  o  m  a  -  s  d  -  h  -\n",
      "f  i  t  -  b  a  o  p  a  l\n",
      "-  s  -  t  r  y     o  u  t\n",
      "-  a  h  e  r  -  i  p  l  -\n",
      "-  n  a  r  r  a  t  e  -  -\n"
     ]
    }
   ],
   "source": [
    "n = 0\n",
    "direction = Direction.DOWN\n",
    "word_list = []\n",
    "puzzle.reset()\n",
    "positions = {\n",
    "    Direction.DOWN: {pos: [] for pos in product(range(puzzle.shape[1]), range(puzzle.shape[0] - MIN_WORD_LEN))},\n",
    "    Direction.ACROSS: {pos: [] for pos in product(range(puzzle.shape[1] - MIN_WORD_LEN), range(puzzle.shape[0]))}\n",
    "}\n",
    "random.seed(12)\n",
    "pbar = tqdm()\n",
    "while n < 12:\n",
    "    if len(positions[direction]) == 0:\n",
    "        if len(positions[Direction.flip(direction)]) == 0:\n",
    "            break\n",
    "        direction = Direction.flip(direction)\n",
    "    \n",
    "    position = random.choice(list(positions[direction]))\n",
    "    \n",
    "    blacklist = positions[direction][position] + word_list\n",
    "    candidates = get_candidates(puzzle, position, direction, blacklist)\n",
    "\n",
    "    if len(candidates) == 0:\n",
    "        positions[direction].pop(position, None)\n",
    "        continue\n",
    "    \n",
    "    try:\n",
    "        word = candidates[\"word\"].sample(1, weights=np.log(candidates.freq)).item()\n",
    "    except:\n",
    "        word = candidates[\"word\"].sample(1).item()\n",
    "    \n",
    "    pbar.update(n)\n",
    "    #pbar.set_description(f\"word: {word}, pos: {position}, dir: {direction.name.lower()}, cnd: {len(candidates)}, slots {len(positions[Direction.DOWN])}\", refresh=True)\n",
    "    print(f\"word: {word}, pos: {position}, dir: {direction.name.lower()}, cnd: {len(candidates)}, slots {len(positions[Direction.DOWN])}d {len(positions[Direction.ACROSS])}a\")\n",
    "    \n",
    "    if puzzle.add_word(position, direction, word):\n",
    "        if len(positions[Direction.flip(direction)]) > 0:\n",
    "            direction = Direction.flip(direction)\n",
    "\n",
    "        positions[direction].pop(position, None)    \n",
    "        word_list.append(word)\n",
    "        n += 1\n",
    "        print(puzzle)\n",
    "    else:\n",
    "        positions[direction][position].append(word)\n",
    "        logger.info(f\"Can't place word {word} at {position}\")\n",
    "\n",
    "print(word_list)\n",
    "print(puzzle)"
   ]
  },
  {
   "cell_type": "code",
   "execution_count": 15,
   "metadata": {},
   "outputs": [],
   "source": [
    "def custom_print(puzzle: WordGrid):\n",
    "    to_print = []\n",
    "    for chars, states in zip(puzzle.puzzle, puzzle.state):\n",
    "        data = []\n",
    "        for char, state in zip(chars, states):\n",
    "            if state & Direction.ACROSS.value and state & Direction.DOWN.value:\n",
    "                color = \"magenta\"\n",
    "            elif state & Direction.ACROSS.value:\n",
    "                color = \"blue\"\n",
    "            elif state & Direction.DOWN.value:\n",
    "                color = \"yellow\"\n",
    "            else:\n",
    "                color = \"white\"\n",
    "            data.append(colored(char, color))\n",
    "        to_print.append(data)\n",
    "    print(tabulate(to_print))"
   ]
  },
  {
   "cell_type": "code",
   "execution_count": 25,
   "metadata": {},
   "outputs": [
    {
     "name": "stdout",
     "output_type": "stream",
     "text": [
      "-  -  -  -  -  -  -  -  -  -\n",
      "\u001b[34mg\u001b[0m  \u001b[34mo\u001b[0m  \u001b[34mm\u001b[0m  \u001b[34ma\u001b[0m  \u001b[97m-\u001b[0m  \u001b[33ms\u001b[0m  \u001b[33md\u001b[0m  \u001b[97m-\u001b[0m  \u001b[33mh\u001b[0m  \u001b[97m-\u001b[0m\n",
      "\u001b[34mf\u001b[0m  \u001b[35mi\u001b[0m  \u001b[34mt\u001b[0m  \u001b[97m-\u001b[0m  \u001b[33mb\u001b[0m  \u001b[33ma\u001b[0m  \u001b[35mo\u001b[0m  \u001b[35mp\u001b[0m  \u001b[35ma\u001b[0m  \u001b[34ml\u001b[0m\n",
      "\u001b[97m-\u001b[0m  \u001b[33ms\u001b[0m  \u001b[97m-\u001b[0m  \u001b[34mt\u001b[0m  \u001b[35mr\u001b[0m  \u001b[35my\u001b[0m  \u001b[35m \u001b[0m  \u001b[35mo\u001b[0m  \u001b[35mu\u001b[0m  \u001b[34mt\u001b[0m\n",
      "\u001b[97m-\u001b[0m  \u001b[33ma\u001b[0m  \u001b[34mh\u001b[0m  \u001b[34me\u001b[0m  \u001b[35mr\u001b[0m  \u001b[97m-\u001b[0m  \u001b[33mi\u001b[0m  \u001b[33mp\u001b[0m  \u001b[33ml\u001b[0m  \u001b[97m-\u001b[0m\n",
      "\u001b[97m-\u001b[0m  \u001b[35mn\u001b[0m  \u001b[34ma\u001b[0m  \u001b[34mr\u001b[0m  \u001b[35mr\u001b[0m  \u001b[34ma\u001b[0m  \u001b[35mt\u001b[0m  \u001b[35me\u001b[0m  \u001b[97m-\u001b[0m  \u001b[97m-\u001b[0m\n",
      "-  -  -  -  -  -  -  -  -  -\n"
     ]
    }
   ],
   "source": [
    "custom_print(puzzle)"
   ]
  },
  {
   "cell_type": "code",
   "execution_count": null,
   "metadata": {},
   "outputs": [],
   "source": []
  }
 ],
 "metadata": {
  "kernelspec": {
   "display_name": ".venv",
   "language": "python",
   "name": "python3"
  },
  "language_info": {
   "codemirror_mode": {
    "name": "ipython",
    "version": 3
   },
   "file_extension": ".py",
   "mimetype": "text/x-python",
   "name": "python",
   "nbconvert_exporter": "python",
   "pygments_lexer": "ipython3",
   "version": "3.11.9"
  }
 },
 "nbformat": 4,
 "nbformat_minor": 2
}
