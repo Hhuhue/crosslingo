{
 "cells": [
  {
   "cell_type": "code",
   "execution_count": 2,
   "metadata": {},
   "outputs": [],
   "source": [
    "from enum import Enum\n",
    "from itertools import product\n",
    "import logging\n",
    "from logging import Logger\n",
    "import random\n",
    "\n",
    "import pandas as pd\n",
    "import numpy as np\n",
    "from tabulate import tabulate\n",
    "from termcolor import colored\n",
    "from tqdm import tqdm\n",
    "\n",
    "\n",
    "\n",
    "MIN_WORD_LEN = 3"
   ]
  },
  {
   "cell_type": "code",
   "execution_count": 5,
   "metadata": {},
   "outputs": [],
   "source": [
    "\n",
    "def get_logger():\n",
    "    logger = logging.getLogger(__name__)\n",
    "    logger.setLevel(logging.ERROR)\n",
    "    console_handler = logging.StreamHandler()\n",
    "    console_handler.setLevel(logging.ERROR)\n",
    "    formatter = logging.Formatter(\"%(asctime)s - %(levelname)s - %(message)s\")\n",
    "    console_handler.setFormatter(formatter)\n",
    "    logger.addHandler(console_handler)\n",
    "    return logger\n",
    "\n",
    "logger = get_logger()"
   ]
  },
  {
   "cell_type": "code",
   "execution_count": 6,
   "metadata": {},
   "outputs": [],
   "source": [
    "class Direction(Enum):\n",
    "    NONE = 0\n",
    "    ACROSS = 1\n",
    "    DOWN = 2\n",
    "    BLOCKED = 4\n",
    "    \n",
    "    @classmethod\n",
    "    def flip(cls, direction):\n",
    "        if direction == cls.ACROSS:\n",
    "            return cls.DOWN\n",
    "        elif direction == cls.DOWN:\n",
    "            return cls.ACROSS\n",
    "        else:\n",
    "            return direction"
   ]
  },
  {
   "cell_type": "code",
   "execution_count": 37,
   "metadata": {},
   "outputs": [],
   "source": [
    "class WordGrid:\n",
    "    def __init__(self, shape: tuple, logger: Logger = None, verbose=False) -> None:\n",
    "        self.puzzle = np.full(shape, '-', dtype=np.str_)\n",
    "        self.shape = np.array(self.puzzle.shape)\n",
    "        self.state = np.zeros(shape, dtype=np.int8)\n",
    "        self.verbose = verbose\n",
    "        self.logger = logger\n",
    "\n",
    "    def __str__(self) -> str:\n",
    "        return str(tabulate(self.puzzle, tablefmt=\"plain\"))\n",
    "    \n",
    "    def __repr__(self) -> str:\n",
    "        return str(self)\n",
    "    \n",
    "    def flip(self):\n",
    "        self.puzzle = self.puzzle.T\n",
    "        self.shape = self.shape[::-1]\n",
    "        self.state = self.state.T\n",
    "    \n",
    "    def reset(self) -> None:\n",
    "        self.puzzle[:] = '-'\n",
    "        self.state[:] = 0\n",
    "        \n",
    "    def validate_word(self, x: int, y: int, direction: Direction, word: str) -> bool:\n",
    "        if len(word) + x > self.puzzle.shape[0]:\n",
    "            # Word is too long for where it is placed\n",
    "            if self.verbose:\n",
    "                self.logger.warning(f\"Cannot place word of length {len(word)}, '{word}' at {(x, y)}\")\n",
    "            return False\n",
    "        elif (self.state[x:x + len(word), y] & direction.value).any():\n",
    "            # Word is overlapping with an other word in the same direction\n",
    "            if self.verbose:\n",
    "                self.logger.warning(f\"Word overlap detected while trying to place '{word}' at {(x, y)}\")\n",
    "            return False\n",
    "        elif x - 1 > 0 and self.state[x - 1, y] != Direction.NONE.value:\n",
    "            # There is a letter just before the beginning of the word\n",
    "            if self.verbose:\n",
    "                self.logger.warning(f\"Word interference detected while trying to place '{word}' at {(x, y)}\")\n",
    "            return False\n",
    "        elif x + len(word) < self.shape[0] and self.state[x + len(word), y] != Direction.NONE.value:\n",
    "            # There is a letter just after the beginning of the word\n",
    "            if self.verbose:\n",
    "                self.logger.warning(f\"Word interference detected while trying to place '{word}' at {(x, y)}\")\n",
    "            return False\n",
    "        \n",
    "        return True\n",
    "\n",
    "\n",
    "    def add_word(self, position: tuple, direction: Direction, word: str) -> bool:\n",
    "        \n",
    "        if direction == Direction.ACROSS:\n",
    "            self.flip()\n",
    "            x, y = position\n",
    "        else:\n",
    "            y, x = position\n",
    "\n",
    "        is_valid = self.validate_word(x, y, direction, word)\n",
    "        \n",
    "        if is_valid:\n",
    "            self.puzzle[x:x + len(word), y] = list(word.lower())\n",
    "            self.state[x:x + len(word), y] |= direction.value\n",
    "            if x - 1 >= 0: \n",
    "                self.state[x - 1, y] = Direction.BLOCKED.value\n",
    "                self.puzzle[x - 1, y] = '■'\n",
    "            if x + len(word) + 1 < self.shape[0]: \n",
    "                self.state[x + len(word), y] = Direction.BLOCKED.value\n",
    "                self.puzzle[x + len(word), y] = '■'\n",
    "        \n",
    "        if direction == Direction.ACROSS:\n",
    "            self.flip()\n",
    "        \n",
    "        return is_valid\n",
    "\n",
    "\n",
    "    def get_letters(self, position: tuple, direction: Direction, length: int):\n",
    "        y, x = position\n",
    "        letters = []\n",
    "        \n",
    "        if direction == Direction.ACROSS:\n",
    "            self.flip()\n",
    "            x, y = position\n",
    "        else:\n",
    "            y, x = position\n",
    "            \n",
    "        for i, letter in enumerate(self.puzzle[x:x + length, y]):\n",
    "            if letter == '-':\n",
    "                continue\n",
    "            letters.append((i, letter))\n",
    "        \n",
    "        if direction == Direction.ACROSS:\n",
    "            self.flip()\n",
    "        \n",
    "        return letters\n",
    "\n",
    "\n",
    "    def get_letter(self, position: tuple):\n",
    "        return self.puzzle[position[1], position[0]].decode()"
   ]
  },
  {
   "cell_type": "code",
   "execution_count": 20,
   "metadata": {},
   "outputs": [
    {
     "data": {
      "text/plain": [
       "-  -  -  -  -  -  -  -  -  -\n",
       "-  -  -  -  -  -  -  -  -  -\n",
       "-  -  -  -  -  -  -  -  -  -\n",
       "-  -  -  -  -  -  -  -  -  -\n",
       "-  -  -  -  -  -  -  -  -  -"
      ]
     },
     "execution_count": 20,
     "metadata": {},
     "output_type": "execute_result"
    }
   ],
   "source": [
    "puzzle = WordGrid((5,10))\n",
    "puzzle"
   ]
  },
  {
   "cell_type": "code",
   "execution_count": 13,
   "metadata": {},
   "outputs": [
    {
     "name": "stderr",
     "output_type": "stream",
     "text": [
      "C:\\Users\\charl\\AppData\\Local\\Temp\\ipykernel_25564\\4029767802.py:3: SettingWithCopyWarning: \n",
      "A value is trying to be set on a copy of a slice from a DataFrame.\n",
      "Try using .loc[row_indexer,col_indexer] = value instead\n",
      "\n",
      "See the caveats in the documentation: https://pandas.pydata.org/pandas-docs/stable/user_guide/indexing.html#returning-a-view-versus-a-copy\n",
      "  dictionary[\"word\"] = dictionary[\"word\"].astype(str)\n"
     ]
    },
    {
     "name": "stdout",
     "output_type": "stream",
     "text": [
      "704183\n"
     ]
    }
   ],
   "source": [
    "word_index = pd.read_csv(\"data/word_index.csv\", encoding='utf-8')\n",
    "dictionary = word_index[word_index[\"lang_code\"] == \"en\"]\n",
    "dictionary[\"word\"] = dictionary[\"word\"].astype(str)\n",
    "dictionary = dictionary[dictionary[\"len\"] >= MIN_WORD_LEN]\n",
    "dictionary = dictionary[dictionary[\"len\"] <= max(puzzle.shape)]\n",
    "dictionary = dictionary[~dictionary[\"word\"].str.contains(r\"[0-9-]\")]\n",
    "print(len(dictionary))"
   ]
  },
  {
   "cell_type": "code",
   "execution_count": 10,
   "metadata": {},
   "outputs": [
    {
     "data": {
      "text/plain": [
       "True"
      ]
     },
     "execution_count": 10,
     "metadata": {},
     "output_type": "execute_result"
    }
   ],
   "source": [
    "\"who\" in sorted(dictionary[\"word\"].to_list())"
   ]
  },
  {
   "cell_type": "code",
   "execution_count": 30,
   "metadata": {},
   "outputs": [
    {
     "name": "stdout",
     "output_type": "stream",
     "text": [
      "-  -  -  -  -  -  -  -  -  -\n",
      "-  -  -  -  -  -  -  -  -  -\n",
      "■  s  e  r  r  a  t  i  ■  -\n",
      "-  -  -  -  -  -  -  -  -  -\n",
      "-  -  -  -  -  -  -  -  -  -\n"
     ]
    }
   ],
   "source": [
    "puzzle.reset()\n",
    "while not puzzle.add_word((1,2), Direction.ACROSS, dictionary[\"word\"].sample(1).item()):\n",
    "    pass\n",
    "print(puzzle)"
   ]
  },
  {
   "cell_type": "code",
   "execution_count": 34,
   "metadata": {},
   "outputs": [],
   "source": [
    "def get_candidates(puzzle: WordGrid, position: tuple, direction: Direction, blacklist: list):\n",
    "    if direction == Direction.ACROSS:\n",
    "        x, y = position\n",
    "        max_len = puzzle.shape[1] - position[0]\n",
    "        puzzle.flip()\n",
    "    else:\n",
    "        max_len = puzzle.shape[0] - position[1]\n",
    "        y, x = position\n",
    "\n",
    "    candidates = dictionary[dictionary[\"word\"].apply(lambda w: puzzle.validate_word(x, y, direction, w))]\n",
    "    \n",
    "    if direction == Direction.ACROSS:\n",
    "        puzzle.flip()\n",
    "    \n",
    "    candidates = candidates[~candidates[\"word\"].isin(blacklist)]\n",
    "        \n",
    "    letters = puzzle.get_letters(position, direction, max_len)\n",
    "    candidates = candidates[candidates[\"word\"].apply(lambda w: all([w[i] == l for i, l in letters if i < len(w)]))]\n",
    "        \n",
    "    return candidates\n",
    "    "
   ]
  },
  {
   "cell_type": "code",
   "execution_count": 38,
   "metadata": {},
   "outputs": [
    {
     "name": "stderr",
     "output_type": "stream",
     "text": [
      "66it [03:33,  3.23s/it]\n",
      "0it [00:00, ?it/s]"
     ]
    },
    {
     "name": "stdout",
     "output_type": "stream",
     "text": [
      "word: the, pos: (7, 1), dir: down, cnd: 47791, slots 20d 35a\n"
     ]
    },
    {
     "name": "stderr",
     "output_type": "stream",
     "text": [
      "1it [00:02,  2.49s/it]"
     ]
    },
    {
     "name": "stdout",
     "output_type": "stream",
     "text": [
      "word: more, pos: (3, 2), dir: across, cnd: 38605, slots 20d 35a\n"
     ]
    },
    {
     "name": "stderr",
     "output_type": "stream",
     "text": [
      "3it [00:03,  1.04it/s]"
     ]
    },
    {
     "name": "stdout",
     "output_type": "stream",
     "text": [
      "word: chain, pos: (8, 0), dir: down, cnd: 98312, slots 20d 35a\n"
     ]
    },
    {
     "name": "stderr",
     "output_type": "stream",
     "text": [
      "6it [00:08,  1.33s/it]"
     ]
    },
    {
     "name": "stdout",
     "output_type": "stream",
     "text": [
      "word: martial, pos: (1, 4), dir: across, cnd: 235974, slots 20d 34a\n"
     ]
    },
    {
     "name": "stderr",
     "output_type": "stream",
     "text": [
      "10it [00:09,  1.39it/s]"
     ]
    },
    {
     "name": "stdout",
     "output_type": "stream",
     "text": [
      "word: been, pos: (6, 0), dir: down, cnd: 2054, slots 20d 34a\n"
     ]
    },
    {
     "name": "stderr",
     "output_type": "stream",
     "text": [
      "15it [00:13,  1.22it/s]"
     ]
    },
    {
     "name": "stdout",
     "output_type": "stream",
     "text": [
      "word: cult, pos: (0, 0), dir: across, cnd: 47776, slots 20d 33a\n"
     ]
    },
    {
     "name": "stderr",
     "output_type": "stream",
     "text": [
      "21it [00:15,  1.78it/s]"
     ]
    },
    {
     "name": "stdout",
     "output_type": "stream",
     "text": [
      "word: not, pos: (4, 1), dir: down, cnd: 1462, slots 17d 33a\n"
     ]
    },
    {
     "name": "stderr",
     "output_type": "stream",
     "text": [
      "28it [00:17,  2.26it/s]"
     ]
    },
    {
     "name": "stdout",
     "output_type": "stream",
     "text": [
      "word: eth, pos: (6, 1), dir: across, cnd: 4, slots 17d 30a\n"
     ]
    },
    {
     "name": "stderr",
     "output_type": "stream",
     "text": [
      "36it [00:19,  2.79it/s]"
     ]
    },
    {
     "name": "stdout",
     "output_type": "stream",
     "text": [
      "word: IOC, pos: (0, 1), dir: down, cnd: 15871, slots 14d 30a\n"
     ]
    },
    {
     "name": "stderr",
     "output_type": "stream",
     "text": [
      "45it [00:29,  1.53it/s]"
     ]
    },
    {
     "name": "stdout",
     "output_type": "stream",
     "text": [
      "word: octane, pos: (2, 3), dir: across, cnd: 55, slots 14d 25a\n"
     ]
    },
    {
     "name": "stderr",
     "output_type": "stream",
     "text": [
      "55it [00:30,  2.28it/s]"
     ]
    },
    {
     "name": "stdout",
     "output_type": "stream",
     "text": [
      "word: Gmc, pos: (3, 1), dir: down, cnd: 2, slots 13d 25a\n"
     ]
    },
    {
     "name": "stderr",
     "output_type": "stream",
     "text": [
      "66it [01:16,  1.85s/it]"
     ]
    },
    {
     "name": "stdout",
     "output_type": "stream",
     "text": [
      "word: then, pos: (9, 0), dir: down, cnd: 98295, slots 13d 0a\n",
      "['the', 'more', 'chain', 'martial', 'been', 'cult', 'not', 'eth', 'IOC', 'octane', 'Gmc', 'then']\n",
      "■  u  l  ■  ■  -  b  ■  c  t\n",
      "i  -  -  g  n  ■  e  t  h  h\n",
      "o  -  ■  m  o  r  e  ■  a  e\n",
      "c  ■  o  c  t  a  n  e  ■  n\n",
      "■  m  a  r  t  i  a  l  ■  -\n"
     ]
    }
   ],
   "source": [
    "n = 0\n",
    "direction = Direction.DOWN\n",
    "word_list = []\n",
    "puzzle.reset()\n",
    "positions = {\n",
    "    Direction.DOWN: {pos: [] for pos in product(range(puzzle.shape[1]), range(puzzle.shape[0] - MIN_WORD_LEN))},\n",
    "    Direction.ACROSS: {pos: [] for pos in product(range(puzzle.shape[1] - MIN_WORD_LEN), range(puzzle.shape[0]))}\n",
    "}\n",
    "random.seed(12)\n",
    "pbar = tqdm()\n",
    "while n < 12:\n",
    "    if len(positions[direction]) == 0:\n",
    "        if len(positions[Direction.flip(direction)]) == 0:\n",
    "            break\n",
    "        direction = Direction.flip(direction)\n",
    "    \n",
    "    position = random.choice(list(positions[direction]))\n",
    "    \n",
    "    blacklist = positions[direction][position] + word_list\n",
    "    candidates = get_candidates(puzzle, position, direction, blacklist)\n",
    "\n",
    "    if len(candidates) == 0:\n",
    "        positions[direction].pop(position, None)\n",
    "        continue\n",
    "    \n",
    "    try:\n",
    "        word = candidates[\"word\"].sample(1, weights=candidates.freq).item()\n",
    "    except:\n",
    "        word = candidates[\"word\"].sample(1).item()\n",
    "    \n",
    "    pbar.update(n)\n",
    "    #pbar.set_description(f\"word: {word}, pos: {position}, dir: {direction.name.lower()}, cnd: {len(candidates)}, slots {len(positions[Direction.DOWN])}\", refresh=True)\n",
    "    print(f\"word: {word}, pos: {position}, dir: {direction.name.lower()}, cnd: {len(candidates)}, slots {len(positions[Direction.DOWN])}d {len(positions[Direction.ACROSS])}a\")\n",
    "    \n",
    "    if puzzle.add_word(position, direction, word):\n",
    "        if len(positions[Direction.flip(direction)]) > 0:\n",
    "            direction = Direction.flip(direction)\n",
    "\n",
    "        positions[direction].pop(position, None)    \n",
    "        word_list.append(word)\n",
    "        n += 1\n",
    "        #print(puzzle)\n",
    "    else:\n",
    "        positions[direction][position].append(word)\n",
    "        logger.info(f\"Can't place word {word} at {position}\")\n",
    "\n",
    "print(word_list)\n",
    "print(puzzle)"
   ]
  },
  {
   "cell_type": "code",
   "execution_count": 27,
   "metadata": {},
   "outputs": [],
   "source": [
    "def custom_print(puzzle: WordGrid):\n",
    "    to_print = []\n",
    "    for chars, states in zip(puzzle.puzzle, puzzle.state):\n",
    "        data = []\n",
    "        for char, state in zip(chars, states):\n",
    "            if state & Direction.ACROSS.value and state & Direction.DOWN.value:\n",
    "                color = \"magenta\"\n",
    "            elif state & Direction.ACROSS.value:\n",
    "                color = \"blue\"\n",
    "            elif state & Direction.DOWN.value:\n",
    "                color = \"yellow\"\n",
    "            else:\n",
    "                color = \"white\"\n",
    "            data.append(colored(char, color))\n",
    "        to_print.append(data)\n",
    "    print(tabulate(to_print))"
   ]
  },
  {
   "cell_type": "code",
   "execution_count": 39,
   "metadata": {},
   "outputs": [
    {
     "name": "stdout",
     "output_type": "stream",
     "text": [
      "-  -  -  -  -  -  -  -  -  -\n",
      "\u001b[97m■\u001b[0m  \u001b[34mu\u001b[0m  \u001b[34ml\u001b[0m  \u001b[97m■\u001b[0m  \u001b[97m■\u001b[0m  \u001b[97m-\u001b[0m  \u001b[33mb\u001b[0m  \u001b[97m■\u001b[0m  \u001b[33mc\u001b[0m  \u001b[33mt\u001b[0m\n",
      "\u001b[33mi\u001b[0m  \u001b[97m-\u001b[0m  \u001b[97m-\u001b[0m  \u001b[33mg\u001b[0m  \u001b[33mn\u001b[0m  \u001b[97m■\u001b[0m  \u001b[35me\u001b[0m  \u001b[35mt\u001b[0m  \u001b[35mh\u001b[0m  \u001b[33mh\u001b[0m\n",
      "\u001b[33mo\u001b[0m  \u001b[97m-\u001b[0m  \u001b[97m■\u001b[0m  \u001b[35mm\u001b[0m  \u001b[35mo\u001b[0m  \u001b[34mr\u001b[0m  \u001b[35me\u001b[0m  \u001b[97m■\u001b[0m  \u001b[33ma\u001b[0m  \u001b[33me\u001b[0m\n",
      "\u001b[33mc\u001b[0m  \u001b[97m■\u001b[0m  \u001b[34mo\u001b[0m  \u001b[35mc\u001b[0m  \u001b[35mt\u001b[0m  \u001b[34ma\u001b[0m  \u001b[35mn\u001b[0m  \u001b[35me\u001b[0m  \u001b[97m■\u001b[0m  \u001b[33mn\u001b[0m\n",
      "\u001b[97m■\u001b[0m  \u001b[34mm\u001b[0m  \u001b[34ma\u001b[0m  \u001b[34mr\u001b[0m  \u001b[34mt\u001b[0m  \u001b[34mi\u001b[0m  \u001b[34ma\u001b[0m  \u001b[34ml\u001b[0m  \u001b[97m■\u001b[0m  \u001b[97m-\u001b[0m\n",
      "-  -  -  -  -  -  -  -  -  -\n"
     ]
    }
   ],
   "source": [
    "custom_print(puzzle)"
   ]
  },
  {
   "cell_type": "code",
   "execution_count": null,
   "metadata": {},
   "outputs": [],
   "source": []
  }
 ],
 "metadata": {
  "kernelspec": {
   "display_name": ".venv",
   "language": "python",
   "name": "python3"
  },
  "language_info": {
   "codemirror_mode": {
    "name": "ipython",
    "version": 3
   },
   "file_extension": ".py",
   "mimetype": "text/x-python",
   "name": "python",
   "nbconvert_exporter": "python",
   "pygments_lexer": "ipython3",
   "version": "3.11.9"
  }
 },
 "nbformat": 4,
 "nbformat_minor": 2
}
